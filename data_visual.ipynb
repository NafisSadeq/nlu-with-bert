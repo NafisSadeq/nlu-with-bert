{
 "cells": [
  {
   "cell_type": "code",
   "execution_count": 18,
   "id": "8e756ad1-dc51-4670-afad-dba72f4014b9",
   "metadata": {},
   "outputs": [],
   "source": [
    "import json\n",
    "\n",
    "data_dir=\"new_corpus/data/all_data\"\n",
    "\n",
    "with open(data_dir+\"/val_data.json\",'r') as file:\n",
    "    sample_list=json.load(file)"
   ]
  },
  {
   "cell_type": "code",
   "execution_count": 19,
   "id": "f7abe200-83f8-46f4-8c4c-7f94d5006d33",
   "metadata": {},
   "outputs": [
    {
     "data": {
      "text/plain": [
       "(14691, list)"
      ]
     },
     "execution_count": 19,
     "metadata": {},
     "output_type": "execute_result"
    }
   ],
   "source": [
    "len(sample_list),type(sample_list)"
   ]
  },
  {
   "cell_type": "code",
   "execution_count": 20,
   "id": "4a555264-8414-48af-a369-aee2a457e936",
   "metadata": {},
   "outputs": [
    {
     "data": {
      "text/plain": [
       "[['I',\n",
       "  'am',\n",
       "  'also',\n",
       "  'looking',\n",
       "  'for',\n",
       "  'a',\n",
       "  'multi',\n",
       "  'sport',\n",
       "  'in',\n",
       "  'the',\n",
       "  'East',\n",
       "  '.'],\n",
       " ['O',\n",
       "  'O',\n",
       "  'O',\n",
       "  'O',\n",
       "  'O',\n",
       "  'O',\n",
       "  'O',\n",
       "  'O',\n",
       "  'O',\n",
       "  'O',\n",
       "  'B-Attraction-Inform+Area',\n",
       "  'O'],\n",
       " [],\n",
       " [['Attraction-Inform', 'Area', 'east']],\n",
       " ['The earliest after 18:45 is the TR8658 , leaving Norwich at 19:16 . Can I reserve you one or more seats on this train ?',\n",
       "  'yeah , i need one ticket',\n",
       "  'Booking was successful , the total fee is 17.6 GBP payable at the station . Your reference number is AXH1NM1I . Do you need assistance with anything else ?']]"
      ]
     },
     "execution_count": 20,
     "metadata": {},
     "output_type": "execute_result"
    }
   ],
   "source": [
    "# sample_list[25] -> This is one sample, which is a list of five items [tokens,token_tags,intent,slot_info,dialogue_context]\n",
    "\n",
    "# let s be one sample\n",
    "# s[0] -> list of words for the utterance of first sample.\n",
    "# s[1] -> A list of values which indicates whether the word in that index is associated with any slot value\n",
    "# s[2] -> List of intents for this utterance.\n",
    "# s[3] -> List of slots for this utterance\n",
    "# s[4] -> this is dialogue context or history\n",
    "sample_list[25] "
   ]
  },
  {
   "cell_type": "code",
   "execution_count": 21,
   "id": "5df347a8-df82-44e8-ab0a-4d5f928d48bc",
   "metadata": {},
   "outputs": [
    {
     "data": {
      "text/plain": [
       "['O',\n",
       " 'O',\n",
       " 'O',\n",
       " 'O',\n",
       " 'O',\n",
       " 'O',\n",
       " 'O',\n",
       " 'O',\n",
       " 'O',\n",
       " 'O',\n",
       " 'B-Attraction-Inform+Area',\n",
       " 'O']"
      ]
     },
     "execution_count": 21,
     "metadata": {},
     "output_type": "execute_result"
    }
   ],
   "source": [
    "sample_list[25][1]"
   ]
  },
  {
   "cell_type": "code",
   "execution_count": 22,
   "id": "417e2f67-efe4-4629-9567-d0c37c1a715f",
   "metadata": {},
   "outputs": [],
   "source": [
    "with open(data_dir+\"/intent_vocab.json\",'r') as file:\n",
    "    intent_voc=json.load(file)"
   ]
  },
  {
   "cell_type": "code",
   "execution_count": 23,
   "id": "fd518bd2-daa8-49a4-8eaa-12bb9321fafe",
   "metadata": {},
   "outputs": [
    {
     "data": {
      "text/plain": [
       "['Taxi-Request',\n",
       " 'general-thank',\n",
       " 'general-reqmore',\n",
       " 'general-bye',\n",
       " 'Restaurant-Inform',\n",
       " 'Restaurant-Request',\n",
       " 'Attraction-Request',\n",
       " 'Restaurant-Select',\n",
       " 'Booking-Inform',\n",
       " 'Booking-NoBook',\n",
       " 'Booking-Request',\n",
       " 'Taxi-Inform',\n",
       " 'Train-Request',\n",
       " 'general-welcome',\n",
       " 'Hotel-Inform',\n",
       " 'Train-OfferBook',\n",
       " 'Hotel-Request',\n",
       " 'Train-Inform',\n",
       " 'general-greet',\n",
       " 'Attraction-Inform',\n",
       " 'Hotel-Recommend',\n",
       " 'Attraction-Select',\n",
       " 'Hotel-Select',\n",
       " 'Train-Select',\n",
       " 'Hotel-NoOffer',\n",
       " 'Restaurant-NoOffer']"
      ]
     },
     "execution_count": 23,
     "metadata": {},
     "output_type": "execute_result"
    }
   ],
   "source": [
    "intent_voc"
   ]
  },
  {
   "cell_type": "code",
   "execution_count": 3,
   "id": "dfe931b9-68f3-4c40-8a7f-22ff0f2a7e8e",
   "metadata": {},
   "outputs": [],
   "source": [
    "raw_sample={\"text\":\"I am looking to book a train that is leaving from Cambridge to Bishops Stortford on Friday .\",\n",
    "            \"intent\":[\"Train-Inform\"],\n",
    "           \"span_info\": [\n",
    "          [\"Train-Inform\",\"Dest\",\"bishops stortford\",13,14],\n",
    "          [\"Train-Inform\",\"Day\",\"friday\",16,16],\n",
    "          [\"Train-Inform\",\"Depart\",\"cambridge\",11,11]\n",
    "        ]}\n",
    "\n",
    "raw_sample2={\"text\":\"I am looking to book a train that is leaving from Cambridge to Bishops Stortford on Friday .\",\n",
    "            \"intent\":[\"Train-Inform\"],\n",
    "           \"span_info\": []}"
   ]
  },
  {
   "cell_type": "code",
   "execution_count": 4,
   "id": "f0328162-9126-4b1e-8cdd-8942520101cb",
   "metadata": {},
   "outputs": [],
   "source": [
    "def process_sample(s,context):\n",
    "    text=s[\"text\"]\n",
    "    intent=s[\"intent\"]\n",
    "    span_list=s[\"span_info\"]\n",
    "    \n",
    "    tokens=text.split()\n",
    "    tags = []\n",
    "    slots = []\n",
    "    \n",
    "    for span in span_list:\n",
    "        slots.append(span[:3])\n",
    "    \n",
    "    for i in range(len(tokens)):\n",
    "        \n",
    "        for span in span_list:\n",
    "            \n",
    "            if i == span[3]:\n",
    "                tags.append(\"B-\" + span[0] + \"+\" + span[1])\n",
    "                break\n",
    "            if span[3] < i <= span[4]:\n",
    "                tags.append(\"I-\" + span[0] + \"+\" + span[1])\n",
    "                break\n",
    "        else:\n",
    "            tags.append(\"O\")\n",
    "            \n",
    "    new_s=[tokens,tags,intent,slots,context]\n",
    "    \n",
    "    return new_s        "
   ]
  },
  {
   "cell_type": "code",
   "execution_count": 7,
   "id": "eed8b4ca-a49b-4f37-b7a4-ff19a987fd41",
   "metadata": {},
   "outputs": [
    {
     "name": "stdout",
     "output_type": "stream",
     "text": [
      "18\n",
      "18\n"
     ]
    },
    {
     "data": {
      "text/plain": [
       "[['I',\n",
       "  'am',\n",
       "  'looking',\n",
       "  'to',\n",
       "  'book',\n",
       "  'a',\n",
       "  'train',\n",
       "  'that',\n",
       "  'is',\n",
       "  'leaving',\n",
       "  'from',\n",
       "  'Cambridge',\n",
       "  'to',\n",
       "  'Bishops',\n",
       "  'Stortford',\n",
       "  'on',\n",
       "  'Friday',\n",
       "  '.'],\n",
       " ['O',\n",
       "  'O',\n",
       "  'O',\n",
       "  'O',\n",
       "  'O',\n",
       "  'O',\n",
       "  'O',\n",
       "  'O',\n",
       "  'O',\n",
       "  'O',\n",
       "  'O',\n",
       "  'B-Train-Inform+Depart',\n",
       "  'O',\n",
       "  'B-Train-Inform+Dest',\n",
       "  'I-Train-Inform+Dest',\n",
       "  'O',\n",
       "  'B-Train-Inform+Day',\n",
       "  'O'],\n",
       " ['Train-Inform'],\n",
       " [['Train-Inform', 'Dest', 'bishops stortford'],\n",
       "  ['Train-Inform', 'Day', 'friday'],\n",
       "  ['Train-Inform', 'Depart', 'cambridge']],\n",
       " []]"
      ]
     },
     "execution_count": 7,
     "metadata": {},
     "output_type": "execute_result"
    }
   ],
   "source": [
    "sample=process_sample(raw_sample,[])\n",
    "print(len(sample[0]))\n",
    "print(len(sample[1]))\n",
    "sample"
   ]
  },
  {
   "cell_type": "code",
   "execution_count": 8,
   "id": "c256a9c6-cc3c-4c9b-a031-a68e8659226f",
   "metadata": {},
   "outputs": [],
   "source": [
    "def process_dialog(dialog):\n",
    "\n",
    "    context=[]\n",
    "    processed_sample_list=[]\n",
    "\n",
    "    for turn in dialog:\n",
    "\n",
    "        processed_sample=process_sample(turn,context[:])\n",
    "        processed_sample_list.append(processed_sample)\n",
    "        context.append(turn[\"text\"])\n",
    "        \n",
    "    return processed_sample_list"
   ]
  },
  {
   "cell_type": "code",
   "execution_count": 9,
   "id": "9e93bc1a-b433-4461-98bc-d496d82719a4",
   "metadata": {},
   "outputs": [
    {
     "data": {
      "text/plain": [
       "[[['I',\n",
       "   'am',\n",
       "   'looking',\n",
       "   'to',\n",
       "   'book',\n",
       "   'a',\n",
       "   'train',\n",
       "   'that',\n",
       "   'is',\n",
       "   'leaving',\n",
       "   'from',\n",
       "   'Cambridge',\n",
       "   'to',\n",
       "   'Bishops',\n",
       "   'Stortford',\n",
       "   'on',\n",
       "   'Friday',\n",
       "   '.'],\n",
       "  ['O',\n",
       "   'O',\n",
       "   'O',\n",
       "   'O',\n",
       "   'O',\n",
       "   'O',\n",
       "   'O',\n",
       "   'O',\n",
       "   'O',\n",
       "   'O',\n",
       "   'O',\n",
       "   'B-Train-Inform+Depart',\n",
       "   'O',\n",
       "   'B-Train-Inform+Dest',\n",
       "   'I-Train-Inform+Dest',\n",
       "   'O',\n",
       "   'B-Train-Inform+Day',\n",
       "   'O'],\n",
       "  ['Train-Inform'],\n",
       "  [['Train-Inform', 'Dest', 'bishops stortford'],\n",
       "   ['Train-Inform', 'Day', 'friday'],\n",
       "   ['Train-Inform', 'Depart', 'cambridge']],\n",
       "  []],\n",
       " [['I',\n",
       "   'am',\n",
       "   'looking',\n",
       "   'to',\n",
       "   'book',\n",
       "   'a',\n",
       "   'train',\n",
       "   'that',\n",
       "   'is',\n",
       "   'leaving',\n",
       "   'from',\n",
       "   'Cambridge',\n",
       "   'to',\n",
       "   'Bishops',\n",
       "   'Stortford',\n",
       "   'on',\n",
       "   'Friday',\n",
       "   '.'],\n",
       "  ['O',\n",
       "   'O',\n",
       "   'O',\n",
       "   'O',\n",
       "   'O',\n",
       "   'O',\n",
       "   'O',\n",
       "   'O',\n",
       "   'O',\n",
       "   'O',\n",
       "   'O',\n",
       "   'B-Train-Inform+Depart',\n",
       "   'O',\n",
       "   'B-Train-Inform+Dest',\n",
       "   'I-Train-Inform+Dest',\n",
       "   'O',\n",
       "   'B-Train-Inform+Day',\n",
       "   'O'],\n",
       "  ['Train-Inform'],\n",
       "  [['Train-Inform', 'Dest', 'bishops stortford'],\n",
       "   ['Train-Inform', 'Day', 'friday'],\n",
       "   ['Train-Inform', 'Depart', 'cambridge']],\n",
       "  ['I am looking to book a train that is leaving from Cambridge to Bishops Stortford on Friday .']],\n",
       " [['I',\n",
       "   'am',\n",
       "   'looking',\n",
       "   'to',\n",
       "   'book',\n",
       "   'a',\n",
       "   'train',\n",
       "   'that',\n",
       "   'is',\n",
       "   'leaving',\n",
       "   'from',\n",
       "   'Cambridge',\n",
       "   'to',\n",
       "   'Bishops',\n",
       "   'Stortford',\n",
       "   'on',\n",
       "   'Friday',\n",
       "   '.'],\n",
       "  ['O',\n",
       "   'O',\n",
       "   'O',\n",
       "   'O',\n",
       "   'O',\n",
       "   'O',\n",
       "   'O',\n",
       "   'O',\n",
       "   'O',\n",
       "   'O',\n",
       "   'O',\n",
       "   'B-Train-Inform+Depart',\n",
       "   'O',\n",
       "   'B-Train-Inform+Dest',\n",
       "   'I-Train-Inform+Dest',\n",
       "   'O',\n",
       "   'B-Train-Inform+Day',\n",
       "   'O'],\n",
       "  ['Train-Inform'],\n",
       "  [['Train-Inform', 'Dest', 'bishops stortford'],\n",
       "   ['Train-Inform', 'Day', 'friday'],\n",
       "   ['Train-Inform', 'Depart', 'cambridge']],\n",
       "  ['I am looking to book a train that is leaving from Cambridge to Bishops Stortford on Friday .',\n",
       "   'I am looking to book a train that is leaving from Cambridge to Bishops Stortford on Friday .']]]"
      ]
     },
     "execution_count": 9,
     "metadata": {},
     "output_type": "execute_result"
    }
   ],
   "source": [
    "dialog=[raw_sample]*3\n",
    "process_dialog(dialog)"
   ]
  },
  {
   "cell_type": "code",
   "execution_count": 39,
   "id": "4aef903b-3134-4162-a359-9ac0e6ed924f",
   "metadata": {},
   "outputs": [],
   "source": [
    "with open(data_dir+\"/dummy_data.json\",'w') as file:\n",
    "    json.dump(processed_sample_list,file,indent=2)"
   ]
  },
  {
   "cell_type": "code",
   "execution_count": null,
   "id": "4a09078d-d79a-4cbc-af02-043b8fc7820b",
   "metadata": {},
   "outputs": [],
   "source": []
  }
 ],
 "metadata": {
  "kernelspec": {
   "display_name": "Python 3",
   "language": "python",
   "name": "python3"
  },
  "language_info": {
   "codemirror_mode": {
    "name": "ipython",
    "version": 3
   },
   "file_extension": ".py",
   "mimetype": "text/x-python",
   "name": "python",
   "nbconvert_exporter": "python",
   "pygments_lexer": "ipython3",
   "version": "3.6.15"
  }
 },
 "nbformat": 4,
 "nbformat_minor": 5
}
