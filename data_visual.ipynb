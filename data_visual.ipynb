{
 "cells": [
  {
   "cell_type": "code",
   "execution_count": 1,
   "id": "8e756ad1-dc51-4670-afad-dba72f4014b9",
   "metadata": {},
   "outputs": [],
   "source": [
    "import json\n",
    "\n",
    "data_dir=\"new_corpus/data/all_data\"\n",
    "\n",
    "with open(data_dir+\"/val_data.json\",'r') as file:\n",
    "    sample_list=json.load(file)"
   ]
  },
  {
   "cell_type": "code",
   "execution_count": 2,
   "id": "f7abe200-83f8-46f4-8c4c-7f94d5006d33",
   "metadata": {},
   "outputs": [
    {
     "data": {
      "text/plain": [
       "(14691, list)"
      ]
     },
     "execution_count": 2,
     "metadata": {},
     "output_type": "execute_result"
    }
   ],
   "source": [
    "len(sample_list),type(sample_list)"
   ]
  },
  {
   "cell_type": "code",
   "execution_count": 3,
   "id": "4a555264-8414-48af-a369-aee2a457e936",
   "metadata": {},
   "outputs": [
    {
     "data": {
      "text/plain": [
       "[['I',\n",
       "  'am',\n",
       "  'also',\n",
       "  'looking',\n",
       "  'for',\n",
       "  'a',\n",
       "  'multi',\n",
       "  'sport',\n",
       "  'in',\n",
       "  'the',\n",
       "  'East',\n",
       "  '.'],\n",
       " ['O',\n",
       "  'O',\n",
       "  'O',\n",
       "  'O',\n",
       "  'O',\n",
       "  'O',\n",
       "  'O',\n",
       "  'O',\n",
       "  'O',\n",
       "  'O',\n",
       "  'B-Attraction-Inform+Area',\n",
       "  'O'],\n",
       " [],\n",
       " [['Attraction-Inform', 'Area', 'east']],\n",
       " ['The earliest after 18:45 is the TR8658 , leaving Norwich at 19:16 . Can I reserve you one or more seats on this train ?',\n",
       "  'yeah , i need one ticket',\n",
       "  'Booking was successful , the total fee is 17.6 GBP payable at the station . Your reference number is AXH1NM1I . Do you need assistance with anything else ?']]"
      ]
     },
     "execution_count": 3,
     "metadata": {},
     "output_type": "execute_result"
    }
   ],
   "source": [
    "# sample_list[25] -> This is one sample, which is a list of five items [tokens,token_tags,intent,slot_info,dialogue_context]\n",
    "\n",
    "# let s be one sample\n",
    "# s[0] -> list of words for the utterance of first sample.\n",
    "# s[1] -> A list of values which indicates whether the word in that index is associated with any slot value\n",
    "# s[2] -> List of intents for this utterance.\n",
    "# s[3] -> List of slots for this utterance\n",
    "# s[4] -> this is dialogue context or history\n",
    "sample_list[25] "
   ]
  },
  {
   "cell_type": "code",
   "execution_count": 8,
   "id": "5df347a8-df82-44e8-ab0a-4d5f928d48bc",
   "metadata": {},
   "outputs": [
    {
     "data": {
      "text/plain": [
       "['O',\n",
       " 'O',\n",
       " 'O',\n",
       " 'O',\n",
       " 'O',\n",
       " 'O',\n",
       " 'O',\n",
       " 'O',\n",
       " 'O',\n",
       " 'O',\n",
       " 'B-Attraction-Inform+Area',\n",
       " 'O']"
      ]
     },
     "execution_count": 8,
     "metadata": {},
     "output_type": "execute_result"
    }
   ],
   "source": [
    "sample_list[25][1]"
   ]
  },
  {
   "cell_type": "code",
   "execution_count": 10,
   "id": "417e2f67-efe4-4629-9567-d0c37c1a715f",
   "metadata": {},
   "outputs": [],
   "source": [
    "with open(data_dir+\"/intent_vocab.json\",'r') as file:\n",
    "    intent_voc=json.load(file)"
   ]
  },
  {
   "cell_type": "code",
   "execution_count": 11,
   "id": "fd518bd2-daa8-49a4-8eaa-12bb9321fafe",
   "metadata": {},
   "outputs": [
    {
     "data": {
      "text/plain": [
       "['Taxi-Request',\n",
       " 'general-thank',\n",
       " 'general-reqmore',\n",
       " 'general-bye',\n",
       " 'Restaurant-Inform',\n",
       " 'Restaurant-Request',\n",
       " 'Attraction-Request',\n",
       " 'Restaurant-Select',\n",
       " 'Booking-Inform',\n",
       " 'Booking-NoBook',\n",
       " 'Booking-Request',\n",
       " 'Taxi-Inform',\n",
       " 'Train-Request',\n",
       " 'general-welcome',\n",
       " 'Hotel-Inform',\n",
       " 'Train-OfferBook',\n",
       " 'Hotel-Request',\n",
       " 'Train-Inform',\n",
       " 'general-greet',\n",
       " 'Attraction-Inform',\n",
       " 'Hotel-Recommend',\n",
       " 'Attraction-Select',\n",
       " 'Hotel-Select',\n",
       " 'Train-Select',\n",
       " 'Hotel-NoOffer',\n",
       " 'Restaurant-NoOffer']"
      ]
     },
     "execution_count": 11,
     "metadata": {},
     "output_type": "execute_result"
    }
   ],
   "source": [
    "intent_voc"
   ]
  },
  {
   "cell_type": "code",
   "execution_count": null,
   "id": "dfe931b9-68f3-4c40-8a7f-22ff0f2a7e8e",
   "metadata": {},
   "outputs": [],
   "source": []
  }
 ],
 "metadata": {
  "kernelspec": {
   "display_name": "Python 3",
   "language": "python",
   "name": "python3"
  },
  "language_info": {
   "codemirror_mode": {
    "name": "ipython",
    "version": 3
   },
   "file_extension": ".py",
   "mimetype": "text/x-python",
   "name": "python",
   "nbconvert_exporter": "python",
   "pygments_lexer": "ipython3",
   "version": "3.6.15"
  }
 },
 "nbformat": 4,
 "nbformat_minor": 5
}
