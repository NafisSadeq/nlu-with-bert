{
 "cells": [
  {
   "cell_type": "markdown",
   "metadata": {},
   "source": [
    "## Load Package\n",
    "\n",
    "You can either start this notebook in the `intuit-topic` directory, or append the directory to the path within this session as seen below."
   ]
  },
  {
   "cell_type": "code",
   "execution_count": 1,
   "metadata": {},
   "outputs": [
    {
     "name": "stdout",
     "output_type": "stream",
     "text": [
      "/data4/shuyang/menu-generation\n",
      "- /home/shuyang/data4/intuit-topic\n",
      "- /root/.ipython\n",
      "- /usr/lib/python3.7\n",
      "- /usr/lib/python3.7/lib-dynload\n",
      "- /usr/lib/python3.7/site-packages\n",
      "- /usr/lib/python3.7/site-packages/IPython/extensions\n",
      "- /usr/lib/python3.7/site-packages/deepx_website-0.0.1-py3.7.egg\n",
      "- /usr/lib/python3/dist-packages\n",
      "- /usr/lib/python37.zip\n",
      "- /usr/local/lib/python3.7/dist-packages\n"
     ]
    }
   ],
   "source": [
    "import os\n",
    "import json\n",
    "import sys\n",
    "import importlib\n",
    "add_modules = [\n",
    "    '/home/shuyang/data4/intuit-topic'\n",
    "]\n",
    "for m in add_modules:\n",
    "    if m not in sys.path:\n",
    "        sys.path.append(m)\n",
    "\n",
    "print('\\n- '.join(sorted(filter(None, sys.path))))"
   ]
  },
  {
   "cell_type": "markdown",
   "metadata": {},
   "source": [
    "## Load Data\n",
    "\n",
    "This can be any text data. Here we use the Ubuntu dataset from [Perkins and Yang 2020](https://arxiv.org/pdf/1908.11487.pdf)"
   ]
  },
  {
   "cell_type": "code",
   "execution_count": 2,
   "metadata": {},
   "outputs": [
    {
     "data": {
      "text/html": [
       "<div>\n",
       "<style scoped>\n",
       "    .dataframe tbody tr th:only-of-type {\n",
       "        vertical-align: middle;\n",
       "    }\n",
       "\n",
       "    .dataframe tbody tr th {\n",
       "        vertical-align: top;\n",
       "    }\n",
       "\n",
       "    .dataframe thead th {\n",
       "        text-align: right;\n",
       "    }\n",
       "</style>\n",
       "<table border=\"1\" class=\"dataframe\">\n",
       "  <thead>\n",
       "    <tr style=\"text-align: right;\">\n",
       "      <th></th>\n",
       "      <th>id</th>\n",
       "      <th>label</th>\n",
       "      <th>q1</th>\n",
       "      <th>q2</th>\n",
       "      <th>body</th>\n",
       "    </tr>\n",
       "  </thead>\n",
       "  <tbody>\n",
       "    <tr>\n",
       "      <th>0</th>\n",
       "      <td>1</td>\n",
       "      <td>UNK</td>\n",
       "      <td>how to get the `` your battery is broken '' me...</td>\n",
       "      <td>maybe these instructions will help you to get ...</td>\n",
       "      <td>every time i turn on my computer , i see a mes...</td>\n",
       "    </tr>\n",
       "    <tr>\n",
       "      <th>1</th>\n",
       "      <td>3</td>\n",
       "      <td>UNK</td>\n",
       "      <td>how can i set the software center to install s...</td>\n",
       "      <td>you can modify the policykit permissions to al...</td>\n",
       "      <td>how can i set the software center to allow non...</td>\n",
       "    </tr>\n",
       "    <tr>\n",
       "      <th>2</th>\n",
       "      <td>6</td>\n",
       "      <td>UNK</td>\n",
       "      <td>how to graphically interface with a headless s...</td>\n",
       "      <td>yes , x forwarding over ssh is a beautiful thi...</td>\n",
       "      <td>i have a ubuntu development server at work . i...</td>\n",
       "    </tr>\n",
       "    <tr>\n",
       "      <th>3</th>\n",
       "      <td>7</td>\n",
       "      <td>UNK</td>\n",
       "      <td>how do i run a successful ubuntu hour ?</td>\n",
       "      <td>try and make it as regular as possible , that ...</td>\n",
       "      <td>i 'm taking my be-stickered laptop to a coffee...</td>\n",
       "    </tr>\n",
       "    <tr>\n",
       "      <th>4</th>\n",
       "      <td>8</td>\n",
       "      <td>UNK</td>\n",
       "      <td>how do i go back to kde splash / login after i...</td>\n",
       "      <td>splash screen is configured by the alternative...</td>\n",
       "      <td>i started with ubuntu karmic , and wanted to t...</td>\n",
       "    </tr>\n",
       "    <tr>\n",
       "      <th>...</th>\n",
       "      <td>...</td>\n",
       "      <td>...</td>\n",
       "      <td>...</td>\n",
       "      <td>...</td>\n",
       "      <td>...</td>\n",
       "    </tr>\n",
       "    <tr>\n",
       "      <th>104470</th>\n",
       "      <td>1097755</td>\n",
       "      <td>UNK</td>\n",
       "      <td>command not found after setting source in bash...</td>\n",
       "      <td>im clueless on what causes this , but the simp...</td>\n",
       "      <td>following the instructions here , and everythi...</td>\n",
       "    </tr>\n",
       "    <tr>\n",
       "      <th>104471</th>\n",
       "      <td>1097761</td>\n",
       "      <td>UNK</td>\n",
       "      <td>changing individual letter position with bash</td>\n",
       "      <td>can do that with the transform command , e.g ....</td>\n",
       "      <td>if i have a file called and it contains one li...</td>\n",
       "    </tr>\n",
       "    <tr>\n",
       "      <th>104472</th>\n",
       "      <td>1097781</td>\n",
       "      <td>UNK</td>\n",
       "      <td>how to move multiple folders to another direct...</td>\n",
       "      <td>i could type whatever was typed in this articl...</td>\n",
       "      <td>how can i move multiple folders into another d...</td>\n",
       "    </tr>\n",
       "    <tr>\n",
       "      <th>104473</th>\n",
       "      <td>1097793</td>\n",
       "      <td>UNK</td>\n",
       "      <td>how to remove betblocker</td>\n",
       "      <td>according to betblocker.org : please remember ...</td>\n",
       "      <td>i 've installed betblocker but have noticed th...</td>\n",
       "    </tr>\n",
       "    <tr>\n",
       "      <th>104474</th>\n",
       "      <td>1097814</td>\n",
       "      <td>UNK</td>\n",
       "      <td>how to fix sub-process error code ( 1 ) w/outp...</td>\n",
       "      <td>not sure if this will help , but perhaps try r...</td>\n",
       "      <td>im getting this error e : sub-process /usr/bin...</td>\n",
       "    </tr>\n",
       "  </tbody>\n",
       "</table>\n",
       "<p>104284 rows × 5 columns</p>\n",
       "</div>"
      ],
      "text/plain": [
       "             id label                                                 q1  \\\n",
       "0             1   UNK  how to get the `` your battery is broken '' me...   \n",
       "1             3   UNK  how can i set the software center to install s...   \n",
       "2             6   UNK  how to graphically interface with a headless s...   \n",
       "3             7   UNK            how do i run a successful ubuntu hour ?   \n",
       "4             8   UNK  how do i go back to kde splash / login after i...   \n",
       "...         ...   ...                                                ...   \n",
       "104470  1097755   UNK  command not found after setting source in bash...   \n",
       "104471  1097761   UNK      changing individual letter position with bash   \n",
       "104472  1097781   UNK  how to move multiple folders to another direct...   \n",
       "104473  1097793   UNK                           how to remove betblocker   \n",
       "104474  1097814   UNK  how to fix sub-process error code ( 1 ) w/outp...   \n",
       "\n",
       "                                                       q2  \\\n",
       "0       maybe these instructions will help you to get ...   \n",
       "1       you can modify the policykit permissions to al...   \n",
       "2       yes , x forwarding over ssh is a beautiful thi...   \n",
       "3       try and make it as regular as possible , that ...   \n",
       "4       splash screen is configured by the alternative...   \n",
       "...                                                   ...   \n",
       "104470  im clueless on what causes this , but the simp...   \n",
       "104471  can do that with the transform command , e.g ....   \n",
       "104472  i could type whatever was typed in this articl...   \n",
       "104473  according to betblocker.org : please remember ...   \n",
       "104474  not sure if this will help , but perhaps try r...   \n",
       "\n",
       "                                                     body  \n",
       "0       every time i turn on my computer , i see a mes...  \n",
       "1       how can i set the software center to allow non...  \n",
       "2       i have a ubuntu development server at work . i...  \n",
       "3       i 'm taking my be-stickered laptop to a coffee...  \n",
       "4       i started with ubuntu karmic , and wanted to t...  \n",
       "...                                                   ...  \n",
       "104470  following the instructions here , and everythi...  \n",
       "104471  if i have a file called and it contains one li...  \n",
       "104472  how can i move multiple folders into another d...  \n",
       "104473  i 've installed betblocker but have noticed th...  \n",
       "104474  im getting this error e : sub-process /usr/bin...  \n",
       "\n",
       "[104284 rows x 5 columns]"
      ]
     },
     "execution_count": 2,
     "metadata": {},
     "output_type": "execute_result"
    }
   ],
   "source": [
    "import pandas as pd\n",
    "\n",
    "base_dir = '/home/shuyang/data4/ubuntu_perkins'\n",
    "proc_loc = os.path.join(base_dir, 'askubuntu_processed.csv')\n",
    "raw_loc = os.path.join(base_dir, 'askubuntu_raw.csv')\n",
    "\n",
    "df_p = pd.read_csv(proc_loc, engine='c').rename(columns={\n",
    "    'view1': 'q1',\n",
    "    'view2': 'q2',\n",
    "    'question_body': 'body'\n",
    "})\n",
    "df_p = df_p.dropna()\n",
    "df_p"
   ]
  },
  {
   "cell_type": "code",
   "execution_count": 3,
   "metadata": {},
   "outputs": [
    {
     "name": "stdout",
     "output_type": "stream",
     "text": [
      "104,284 question bodies\n"
     ]
    },
    {
     "data": {
      "text/plain": [
       "'every time i turn on my computer , i see a message saying something like : i am already aware that my battery is bad . how do i suppress this message ?'"
      ]
     },
     "execution_count": 3,
     "metadata": {},
     "output_type": "execute_result"
    }
   ],
   "source": [
    "# An example of what one data point looks like\n",
    "# Input data is simply a list of strings, with each string corresponding to one document/turn of dialog\n",
    "docs = df_p['body'].values.tolist()\n",
    "print('{:,} question bodies'.format(len(docs)))\n",
    "docs[0]"
   ]
  },
  {
   "cell_type": "markdown",
   "metadata": {},
   "source": [
    "## Performing Clustering\n",
    "\n",
    "The Overwrite flag is set to True for demo purposes. For analysis, set to False so you can load the models you've trained."
   ]
  },
  {
   "cell_type": "code",
   "execution_count": 4,
   "metadata": {},
   "outputs": [],
   "source": [
    "bdir = '/home/shuyang/data4/BERTopic-ubuntu'\n",
    "\n",
    "OVERWRITE = True"
   ]
  },
  {
   "cell_type": "code",
   "execution_count": 5,
   "metadata": {},
   "outputs": [],
   "source": [
    "# Document index : (topic ID, topic probability)\n",
    "DOCUMENT_TOPICS = dict()\n",
    "\n",
    "# Topic ID : Topic keywords\n",
    "TOPIC_DICTIONARY = dict()\n",
    "\n",
    "# Previous topic ID : New topic ID\n",
    "REDUCTION_MAPS = dict()"
   ]
  },
  {
   "cell_type": "code",
   "execution_count": 6,
   "metadata": {},
   "outputs": [
    {
     "name": "stdout",
     "output_type": "stream",
     "text": [
      "Created BERTopic object - call .fit() or .fit_transform() to train model!\n",
      "CREATED SENTENCE TRANSFORMER WRAPPER\n"
     ]
    },
    {
     "name": "stderr",
     "output_type": "stream",
     "text": [
      "Batches: 100%|██████████| 3259/3259 [20:20<00:00,  2.67it/s]\n",
      "2022-02-26 23:27:38,376 - BERTopic - Transformed documents to Embeddings\n"
     ]
    },
    {
     "name": "stdout",
     "output_type": "stream",
     "text": [
      "0:20:29.504200 (0:20:29.572183 total) - Transformed documents to embeddings\n"
     ]
    },
    {
     "name": "stderr",
     "output_type": "stream",
     "text": [
      "2022-02-26 23:29:36,972 - BERTopic - Reduced dimensionality with UMAP\n"
     ]
    },
    {
     "name": "stdout",
     "output_type": "stream",
     "text": [
      "0:01:58.600622 (0:22:28.172911 total) - Reduced dimensionality with UMAP\n"
     ]
    },
    {
     "name": "stderr",
     "output_type": "stream",
     "text": [
      "2022-02-26 23:29:48,273 - BERTopic - Clustered UMAP embeddings with HDBSCAN\n"
     ]
    },
    {
     "name": "stdout",
     "output_type": "stream",
     "text": [
      "0:00:11.296345 (0:22:39.469601 total) - Clustered UMAP embeddings with HDBSCAN\n",
      "0:29:25.021058 - Extracted topics and probs\n",
      "0:00:51.646344 - Saved model with 1,782 topics to /home/shuyang/data4/BERTopic-ubuntu/base_model/model.bin (1168.66 MB)\n",
      "0:00:00.004063 - Saved 104,284 topics & 104,284 probs to /home/shuyang/data4/BERTopic-ubuntu/base_model/top_probs.pkl (1.15 MB)\n",
      "0:00:02.304714 (0:30:18.995155 total) - Saved hierarchy visualization to /home/shuyang/data4/BERTopic-ubuntu/base_model/hier.html (4035.89 KB)\n",
      "0:00:00.975466 (0:30:19.970788 total) - Saved term rank visualization to /home/shuyang/data4/BERTopic-ubuntu/base_model/tranks.html (4295.12 KB)\n"
     ]
    }
   ],
   "source": [
    "import os\n",
    "from intuit_topic import BERTopic\n",
    "from datetime import datetime\n",
    "import pickle\n",
    "import pandas as pd\n",
    "\n",
    "mdir = os.path.join(bdir, 'base_model')\n",
    "os.makedirs(mdir, exist_ok=True)\n",
    "sfile = os.path.join(mdir, 'model.bin')\n",
    "bfile = os.path.join(mdir, 'top_probs.pkl')\n",
    "\n",
    "start = datetime.now()\n",
    "if not OVERWRITE and os.path.exists(sfile):\n",
    "    topic_model = BERTopic.load(path=sfile)\n",
    "    print('{} - Model loaded from {} ({:.2f} MB)'.format(\n",
    "        datetime.now() - start,\n",
    "        sfile, os.path.getsize(sfile) / 1024**2\n",
    "    ))\n",
    "    \n",
    "    # Base topics and probabilities\n",
    "    if os.path.exists(bfile):\n",
    "        start_bload = datetime.now()\n",
    "        base_topics, base_probs = pd.read_pickle(bfile)\n",
    "        print('{} - Loaded {:,} base topics & {:,} probs from {} ({:.2f} MB)'.format(\n",
    "            datetime.now() - start_bload,\n",
    "            len(base_topics), len(base_probs),\n",
    "            bfile, os.path.getsize(bfile) / 1024**2\n",
    "        ))\n",
    "    else:\n",
    "        base_topics, base_probs = topic_model.transform(docs)\n",
    "        print('{} - Extracted topics and probs'.format(datetime.now() - start))\n",
    "        # Save topics & probs\n",
    "        start_bsave = datetime.now()\n",
    "        with open(bfile, 'wb') as wf:\n",
    "            pickle.dump((base_topics, base_probs), wf)\n",
    "        print('{} - Saved {:,} topics & {:,} probs to {} ({:.2f} MB)'.format(\n",
    "            datetime.now() - start_bsave,\n",
    "            len(base_topics), len(base_probs),\n",
    "            bfile, os.path.getsize(bfile) / (1024**2)\n",
    "        ))\n",
    "else:\n",
    "    topic_model = BERTopic(\n",
    "        language='english',\n",
    "        top_n_words=10,\n",
    "        n_gram_range=(1, 3),\n",
    "        min_topic_size=5,\n",
    "        verbose=True,\n",
    "        device='cpu')\n",
    "    base_topics, base_probs = topic_model.fit_transform(docs)\n",
    "    print('{} - Extracted topics and probs'.format(datetime.now() - start))\n",
    "    \n",
    "    # Save model itself\n",
    "    start_save = datetime.now()\n",
    "    topic_model.save(sfile)\n",
    "    print('{} - Saved model with {:,} topics to {} ({:.2f} MB)'.format(\n",
    "        datetime.now() - start_save,\n",
    "        len(topic_model.get_topic_freq()),\n",
    "        sfile, os.path.getsize(sfile) / (1024**2)\n",
    "    ))\n",
    "\n",
    "    # Save topics & probs\n",
    "    start_bsave = datetime.now()\n",
    "    with open(bfile, 'wb') as wf:\n",
    "        pickle.dump((base_topics, base_probs), wf)\n",
    "    print('{} - Saved {:,} topics & {:,} probs to {} ({:.2f} MB)'.format(\n",
    "        datetime.now() - start_bsave,\n",
    "        len(base_topics), len(base_probs),\n",
    "        bfile, os.path.getsize(bfile) / (1024**2)\n",
    "    ))\n",
    "\n",
    "# SAVE TOPICS\n",
    "topic_map = topic_model.get_topics()\n",
    "n_topics = len(topic_map)\n",
    "TOPIC_DICTIONARY[n_topics] = topic_map\n",
    "DOCUMENT_TOPICS[n_topics] = [(topic, prob) for topic, prob in zip(base_topics, base_probs)]\n",
    "\n",
    "## VISUALIZE TOPIC HIERARCHY\n",
    "start_hier = datetime.now()\n",
    "fig = topic_model.visualize_hierarchy(width=2000, height=1000)\n",
    "hloc = os.path.join(mdir, \"hier.html\")\n",
    "fig.write_html(hloc)\n",
    "print('{} ({} total) - Saved hierarchy visualization to {} ({:.2f} KB)'.format(\n",
    "    datetime.now() - start_hier,\n",
    "    datetime.now() - start, \n",
    "    hloc, os.path.getsize(hloc) / 1024))\n",
    "\n",
    "## VISUALIZE TERM RANKS\n",
    "start_trank = datetime.now()\n",
    "fig = topic_model.visualize_term_rank(width=2000, height=1000)\n",
    "tloc = os.path.join(mdir, 'tranks.html')\n",
    "fig.write_html(tloc)\n",
    "print('{} ({} total) - Saved term rank visualization to {} ({:.2f} KB)'.format(\n",
    "    datetime.now() - start_trank,\n",
    "    datetime.now() - start, \n",
    "    tloc, os.path.getsize(tloc) / 1024))"
   ]
  },
  {
   "cell_type": "markdown",
   "metadata": {},
   "source": [
    "## Looking at Topics\n",
    "\n",
    "Here we can see the keywords our model has identified for each topic for a random sample of topics (and outliers).\n",
    "\n",
    "Using seed 1111 for Ubuntu, we can see the following topics:\n",
    "- 445: Hypervisors in VirtualBox\n",
    "- 404: IP address questions\n",
    "- 705: Fail2ban for DDOS protection\n",
    "- 1567: Recovery and recovery media for Grub Linux bootloader\n",
    "- 1315: Installing the Audacity software"
   ]
  },
  {
   "cell_type": "code",
   "execution_count": 7,
   "metadata": {},
   "outputs": [
    {
     "name": "stdout",
     "output_type": "stream",
     "text": [
      "Visualizing keywords for topics @ leaf level with 1,782 total topics\n",
      "Outlier keywords:\n"
     ]
    },
    {
     "data": {
      "text/plain": [
       "['the', 'to', 'and', 'it', 'is', 'in', 'my', 'of', 'that', 'this']"
      ]
     },
     "metadata": {},
     "output_type": "display_data"
    },
    {
     "name": "stdout",
     "output_type": "stream",
     "text": [
      "\n",
      "Topic 445:\n"
     ]
    },
    {
     "data": {
      "text/plain": [
       "['media',\n",
       " 'kodi',\n",
       " 'tv',\n",
       " 'stream',\n",
       " 'minidlna',\n",
       " 'appletv',\n",
       " 'to stream',\n",
       " 'media server',\n",
       " 'can stream',\n",
       " 'play']"
      ]
     },
     "metadata": {},
     "output_type": "display_data"
    },
    {
     "name": "stdout",
     "output_type": "stream",
     "text": [
      "\n",
      "Topic 404:\n"
     ]
    },
    {
     "data": {
      "text/plain": [
       "['rkhunter',\n",
       " 'rootkits',\n",
       " 'chkrootkit',\n",
       " 'rootkit',\n",
       " 'infected',\n",
       " 'false',\n",
       " 'false positives',\n",
       " 'positives',\n",
       " 'for rootkits',\n",
       " 'warnings']"
      ]
     },
     "metadata": {},
     "output_type": "display_data"
    },
    {
     "name": "stdout",
     "output_type": "stream",
     "text": [
      "\n",
      "Topic 705:\n"
     ]
    },
    {
     "data": {
      "text/plain": [
       "['watcher',\n",
       " 'script',\n",
       " 'the script',\n",
       " 'it to run',\n",
       " 'on startup',\n",
       " 'startup',\n",
       " 'the watcher daemon',\n",
       " 'have the watcher',\n",
       " 'which makes changes',\n",
       " 'watcher daemon']"
      ]
     },
     "metadata": {},
     "output_type": "display_data"
    },
    {
     "name": "stdout",
     "output_type": "stream",
     "text": [
      "\n",
      "Topic 1567:\n"
     ]
    },
    {
     "data": {
      "text/plain": [
       "['blinking',\n",
       " 'stop blinking',\n",
       " 'cursor',\n",
       " 'the cursor',\n",
       " 'blinking immediately',\n",
       " 'blinking immediately after',\n",
       " 'for gnome 38',\n",
       " 'after the focus',\n",
       " 'to stop blinking',\n",
       " 'focus']"
      ]
     },
     "metadata": {},
     "output_type": "display_data"
    },
    {
     "name": "stdout",
     "output_type": "stream",
     "text": [
      "\n",
      "Topic 1315:\n"
     ]
    },
    {
     "data": {
      "text/plain": [
       "['language',\n",
       " 'languages',\n",
       " 'default language',\n",
       " 'firefox',\n",
       " 'language to',\n",
       " 'english',\n",
       " 'united',\n",
       " 'for dutch',\n",
       " 'default language to',\n",
       " 'dutch']"
      ]
     },
     "metadata": {},
     "output_type": "display_data"
    },
    {
     "name": "stdout",
     "output_type": "stream",
     "text": [
      "\n"
     ]
    }
   ],
   "source": [
    "import random\n",
    "\n",
    "def visualize_topics(topic_map: dict, keys: list = None, k: int = -1, show_scores: bool = False):\n",
    "    outlier_key = -1\n",
    "    all_keys_visualization = sorted([k for k in topic_map.keys() if k != -1])\n",
    "    \n",
    "    # Sample a few keys for visualizing topics\n",
    "    if keys:\n",
    "        sample_keys_vis = keys\n",
    "    elif k is None or k < 0 or k > len(all_keys_visualization):\n",
    "        sample_keys_vis = all_keys_visualization\n",
    "    else:\n",
    "        sample_keys_vis = random.sample(all_keys_visualization, k=k)\n",
    "    \n",
    "    # Outliers\n",
    "    print('Outlier keywords:')\n",
    "    if show_scores:\n",
    "        display(topic_map[outlier_key])\n",
    "    else:\n",
    "        display([t[0] for t in topic_map[outlier_key]])\n",
    "    print()\n",
    "    \n",
    "    # Other keys\n",
    "    for k in sample_keys_vis:\n",
    "        print(f'Topic {k}:')\n",
    "        if show_scores:\n",
    "            display(topic_map[k])\n",
    "        else:\n",
    "            display([t[0] for t in topic_map[k]])\n",
    "        print()\n",
    "\n",
    "random.seed(1111)\n",
    "print('Visualizing keywords for topics @ leaf level with {:,} total topics'.format(\n",
    "    n_topics\n",
    "))\n",
    "visualize_topics(\n",
    "    topic_map=TOPIC_DICTIONARY[n_topics],\n",
    "    k=5,\n",
    "    show_scores=False\n",
    ")"
   ]
  },
  {
   "cell_type": "markdown",
   "metadata": {},
   "source": [
    "## Iteratively Refining Topics\n",
    "\n",
    "This is a demonstration of how we merge topics upwards from the original K topics to 512, 128, 32, and finally 16 broad topics."
   ]
  },
  {
   "cell_type": "code",
   "execution_count": 8,
   "metadata": {},
   "outputs": [
    {
     "name": "stdout",
     "output_type": "stream",
     "text": [
      "\n",
      "========= 512 =========\n",
      "\n",
      "0:00:04.342547 [_reduce_to_n_topics] created (1782, 1782) similarities matrix\n",
      "..............................................................................................................................................................................................................................................................................................................................................................................................................................................................................................................................................................................................................................................................................................................................................................................................................................................................................................................................................................................................................................................................................................................................................................................................................................................................................................................."
     ]
    },
    {
     "name": "stderr",
     "output_type": "stream",
     "text": [
      "100%|██████████| 104284/104284 [00:00<00:00, 3634057.53it/s]"
     ]
    },
    {
     "name": "stdout",
     "output_type": "stream",
     "text": [
      "......0:00:25.967846 [_reduce_to_n_topics] Created topic map\n",
      "0:00:26.001086 [_reduce_to_n_topics] Mapped topics\n"
     ]
    },
    {
     "name": "stderr",
     "output_type": "stream",
     "text": [
      "\n",
      "2022-02-26 23:40:42,700 - BERTopic - Reduced number of topics from 1782 to 513\n"
     ]
    },
    {
     "name": "stdout",
     "output_type": "stream",
     "text": [
      "0:03:13.862917 [_reduce_to_n_topics] Updated representations\n",
      "0:03:13.901669 - Extracted topics and probs with reduction to 512\n",
      "0:00:00.004278 - Saved 104,284 topics & 104,284 probs to /home/shuyang/data4/BERTopic-ubuntu/model_512/top_probs.pkl (1.16 MB)\n",
      "0:00:35.859168 - Saved model with 513 topics to /home/shuyang/data4/BERTopic-ubuntu/model_512/model.bin (1128.57 MB)\n",
      "0:00:00.262793 - Saved hierarchy visualization to /home/shuyang/data4/BERTopic-ubuntu/model_512/hier.html (3712.88 KB)\n",
      "0:00:00.298842 - Saved term rank visualization to /home/shuyang/data4/BERTopic-ubuntu/model_512/tranks.html (3789.85 KB)\n",
      "Visualizing keywords @ level with 513 total topics\n",
      "Outlier keywords:\n"
     ]
    },
    {
     "data": {
      "text/plain": [
       "['the', 'to', 'and', 'it', 'is', 'in', 'my', 'that', 'of', 'this']"
      ]
     },
     "metadata": {},
     "output_type": "display_data"
    },
    {
     "name": "stdout",
     "output_type": "stream",
     "text": [
      "\n",
      "Topic 145:\n"
     ]
    },
    {
     "data": {
      "text/plain": [
       "['sublime',\n",
       " 'sublime text',\n",
       " 'text',\n",
       " 'installed sublime',\n",
       " 'sublimetext',\n",
       " 'open sublime',\n",
       " 'open',\n",
       " 'install sublime',\n",
       " 'installed sublime text',\n",
       " 'st2']"
      ]
     },
     "metadata": {},
     "output_type": "display_data"
    },
    {
     "name": "stdout",
     "output_type": "stream",
     "text": [
      "\n",
      "Topic 372:\n"
     ]
    },
    {
     "data": {
      "text/plain": [
       "['brasero',\n",
       " 'burn',\n",
       " 'to burn',\n",
       " 'cd',\n",
       " 'dvd',\n",
       " 'using brasero',\n",
       " 'brasero to',\n",
       " 'k3b',\n",
       " 'nero',\n",
       " 'burner']"
      ]
     },
     "metadata": {},
     "output_type": "display_data"
    },
    {
     "name": "stdout",
     "output_type": "stream",
     "text": [
      "\n",
      "Topic 457:\n"
     ]
    },
    {
     "data": {
      "text/plain": [
       "['subdomain',\n",
       " 'host',\n",
       " 'apache',\n",
       " 'virtual host',\n",
       " 'virtual',\n",
       " 'server',\n",
       " 'site',\n",
       " 'domain',\n",
       " 'wordpress',\n",
       " 'website']"
      ]
     },
     "metadata": {},
     "output_type": "display_data"
    },
    {
     "name": "stdout",
     "output_type": "stream",
     "text": [
      "\n",
      "Topic 85:\n"
     ]
    },
    {
     "data": {
      "text/plain": [
       "['eclipse',\n",
       " 'the eclipse',\n",
       " 'install eclipse',\n",
       " 'java',\n",
       " 'installed eclipse',\n",
       " 'cdt',\n",
       " 'of eclipse',\n",
       " 'eclipse and',\n",
       " 'pydev',\n",
       " 'project']"
      ]
     },
     "metadata": {},
     "output_type": "display_data"
    },
    {
     "name": "stdout",
     "output_type": "stream",
     "text": [
      "\n",
      "Topic 191:\n"
     ]
    },
    {
     "data": {
      "text/plain": [
       "['conky',\n",
       " 'the conky',\n",
       " 'my conky',\n",
       " 'color',\n",
       " 'conkyrc',\n",
       " 'color e0e0e0',\n",
       " 'e0e0e0',\n",
       " 'desktop',\n",
       " 'conky window',\n",
       " 'conky manager']"
      ]
     },
     "metadata": {},
     "output_type": "display_data"
    },
    {
     "name": "stdout",
     "output_type": "stream",
     "text": [
      "\n",
      "\n",
      "========= 128 =========\n",
      "\n",
      "0:00:02.560979 [_reduce_to_n_topics] created (513, 513) similarities matrix\n",
      "........................................................................................................................................................................................................................................................................................................................................................................................"
     ]
    },
    {
     "name": "stderr",
     "output_type": "stream",
     "text": [
      "100%|██████████| 104284/104284 [00:00<00:00, 3372258.57it/s]"
     ]
    },
    {
     "name": "stdout",
     "output_type": "stream",
     "text": [
      "........0:00:10.140600 [_reduce_to_n_topics] Created topic map\n",
      "0:00:10.175206 [_reduce_to_n_topics] Mapped topics\n"
     ]
    },
    {
     "name": "stderr",
     "output_type": "stream",
     "text": [
      "\n",
      "2022-02-26 23:43:06,808 - BERTopic - Reduced number of topics from 513 to 129\n"
     ]
    },
    {
     "name": "stdout",
     "output_type": "stream",
     "text": [
      "0:01:47.603282 [_reduce_to_n_topics] Updated representations\n",
      "0:01:47.649777 - Extracted topics and probs with reduction to 128\n",
      "0:00:00.004524 - Saved 104,284 topics & 104,284 probs to /home/shuyang/data4/BERTopic-ubuntu/model_128/top_probs.pkl (1.19 MB)\n",
      "0:00:36.450054 - Saved model with 129 topics to /home/shuyang/data4/BERTopic-ubuntu/model_128/model.bin (1107.54 MB)\n",
      "0:00:00.106674 - Saved hierarchy visualization to /home/shuyang/data4/BERTopic-ubuntu/model_128/hier.html (3617.07 KB)\n",
      "0:00:00.097663 - Saved term rank visualization to /home/shuyang/data4/BERTopic-ubuntu/model_128/tranks.html (3636.79 KB)\n",
      "Visualizing keywords @ level with 129 total topics\n",
      "Outlier keywords:\n"
     ]
    },
    {
     "data": {
      "text/plain": [
       "['the', 'to', 'and', 'it', 'is', 'in', 'this', 'my', 'that', 'of']"
      ]
     },
     "metadata": {},
     "output_type": "display_data"
    },
    {
     "name": "stdout",
     "output_type": "stream",
     "text": [
      "\n",
      "Topic 23:\n"
     ]
    },
    {
     "data": {
      "text/plain": [
       "['video',\n",
       " 'convert',\n",
       " 'to convert',\n",
       " 'files',\n",
       " 'to',\n",
       " 'mp4',\n",
       " 'audio',\n",
       " 'format',\n",
       " 'ffmpeg',\n",
       " 'mp3']"
      ]
     },
     "metadata": {},
     "output_type": "display_data"
    },
    {
     "name": "stdout",
     "output_type": "stream",
     "text": [
      "\n",
      "Topic 86:\n"
     ]
    },
    {
     "data": {
      "text/plain": [
       "['dns',\n",
       " 'dns server',\n",
       " 'server',\n",
       " 'dnsmasq',\n",
       " 'resolve',\n",
       " 'resolvconf',\n",
       " 'the dns',\n",
       " 'bind9',\n",
       " 'domain',\n",
       " 'to']"
      ]
     },
     "metadata": {},
     "output_type": "display_data"
    },
    {
     "name": "stdout",
     "output_type": "stream",
     "text": [
      "\n",
      "Topic 27:\n"
     ]
    },
    {
     "data": {
      "text/plain": [
       "['download',\n",
       " 'to download',\n",
       " 'wget',\n",
       " 'youtube',\n",
       " 'file',\n",
       " 'downloading',\n",
       " 'youtubedl',\n",
       " 'url',\n",
       " 'to',\n",
       " 'the']"
      ]
     },
     "metadata": {},
     "output_type": "display_data"
    },
    {
     "name": "stdout",
     "output_type": "stream",
     "text": [
      "\n",
      "Topic 112:\n"
     ]
    },
    {
     "data": {
      "text/plain": [
       "['workspaces',\n",
       " 'workspace',\n",
       " 'the workspace',\n",
       " 'switch',\n",
       " 'of workspaces',\n",
       " 'to',\n",
       " 'switcher',\n",
       " 'viewport',\n",
       " 'switch to',\n",
       " 'the']"
      ]
     },
     "metadata": {},
     "output_type": "display_data"
    },
    {
     "name": "stdout",
     "output_type": "stream",
     "text": [
      "\n",
      "Topic 37:\n"
     ]
    },
    {
     "data": {
      "text/plain": [
       "['fan',\n",
       " 'temperature',\n",
       " 'the fan',\n",
       " 'cpu',\n",
       " 'laptop',\n",
       " 'is',\n",
       " 'the temperature',\n",
       " 'sensors',\n",
       " 'the',\n",
       " 'hot']"
      ]
     },
     "metadata": {},
     "output_type": "display_data"
    },
    {
     "name": "stdout",
     "output_type": "stream",
     "text": [
      "\n",
      "\n",
      "========= 32 =========\n",
      "\n",
      "0:00:01.291922 [_reduce_to_n_topics] created (129, 129) similarities matrix\n",
      "..................................................................................."
     ]
    },
    {
     "name": "stderr",
     "output_type": "stream",
     "text": [
      "100%|██████████| 104284/104284 [00:00<00:00, 3684878.80it/s]"
     ]
    },
    {
     "name": "stdout",
     "output_type": "stream",
     "text": [
      ".............0:00:02.741013 [_reduce_to_n_topics] Created topic map\n",
      "0:00:02.772784 [_reduce_to_n_topics] Mapped topics\n"
     ]
    },
    {
     "name": "stderr",
     "output_type": "stream",
     "text": [
      "\n",
      "2022-02-26 23:45:05,602 - BERTopic - Reduced number of topics from 129 to 33\n"
     ]
    },
    {
     "name": "stdout",
     "output_type": "stream",
     "text": [
      "0:01:22.022864 [_reduce_to_n_topics] Updated representations\n",
      "0:01:22.071670 - Extracted topics and probs with reduction to 32\n",
      "0:00:00.003970 - Saved 104,284 topics & 104,284 probs to /home/shuyang/data4/BERTopic-ubuntu/model_32/top_probs.pkl (1.24 MB)\n",
      "0:00:36.281101 - Saved model with 33 topics to /home/shuyang/data4/BERTopic-ubuntu/model_32/model.bin (1090.95 MB)\n",
      "0:00:00.044042 - Saved hierarchy visualization to /home/shuyang/data4/BERTopic-ubuntu/model_32/hier.html (3593.37 KB)\n",
      "0:00:00.048862 - Saved term rank visualization to /home/shuyang/data4/BERTopic-ubuntu/model_32/tranks.html (3598.53 KB)\n",
      "Visualizing keywords @ level with 33 total topics\n",
      "Outlier keywords:\n"
     ]
    },
    {
     "data": {
      "text/plain": [
       "['the', 'to', 'and', 'it', 'is', 'in', 'this', 'my', 'that', 'of']"
      ]
     },
     "metadata": {},
     "output_type": "display_data"
    },
    {
     "name": "stdout",
     "output_type": "stream",
     "text": [
      "\n",
      "Topic 11:\n"
     ]
    },
    {
     "data": {
      "text/plain": [
       "['the', 'usb', 'boot', 'and', 'ubuntu', 'to', 'install', 'it', 'on', 'with']"
      ]
     },
     "metadata": {},
     "output_type": "display_data"
    },
    {
     "name": "stdout",
     "output_type": "stream",
     "text": [
      "\n",
      "Topic 17:\n"
     ]
    },
    {
     "data": {
      "text/plain": [
       "['mysql',\n",
       " 'to',\n",
       " 'the',\n",
       " 'and',\n",
       " 'it',\n",
       " 'this',\n",
       " 'error',\n",
       " 'server',\n",
       " 'phpmyadmin',\n",
       " 'is']"
      ]
     },
     "metadata": {},
     "output_type": "display_data"
    },
    {
     "name": "stdout",
     "output_type": "stream",
     "text": [
      "\n",
      "Topic 2:\n"
     ]
    },
    {
     "data": {
      "text/plain": [
       "['kernel', 'the', 'to', 'is', 'and', 'the kernel', 'it', 'of', 'that', 'this']"
      ]
     },
     "metadata": {},
     "output_type": "display_data"
    },
    {
     "name": "stdout",
     "output_type": "stream",
     "text": [
      "\n",
      "Topic 23:\n"
     ]
    },
    {
     "data": {
      "text/plain": [
       "['printer',\n",
       " 'print',\n",
       " 'the',\n",
       " 'the printer',\n",
       " 'to',\n",
       " 'printing',\n",
       " 'page',\n",
       " 'and',\n",
       " 'cups',\n",
       " 'is']"
      ]
     },
     "metadata": {},
     "output_type": "display_data"
    },
    {
     "name": "stdout",
     "output_type": "stream",
     "text": [
      "\n",
      "Topic 30:\n"
     ]
    },
    {
     "data": {
      "text/plain": [
       "['login',\n",
       " 'the',\n",
       " 'screen',\n",
       " 'to',\n",
       " 'and',\n",
       " 'login screen',\n",
       " 'the login',\n",
       " 'my',\n",
       " 'it',\n",
       " 'in']"
      ]
     },
     "metadata": {},
     "output_type": "display_data"
    },
    {
     "name": "stdout",
     "output_type": "stream",
     "text": [
      "\n",
      "\n",
      "========= 16 =========\n",
      "\n",
      "0:00:00.582651 [_reduce_to_n_topics] created (33, 33) similarities matrix\n",
      "..........."
     ]
    },
    {
     "name": "stderr",
     "output_type": "stream",
     "text": [
      "100%|██████████| 104284/104284 [00:00<00:00, 3656141.22it/s]"
     ]
    },
    {
     "name": "stdout",
     "output_type": "stream",
     "text": [
      ".....0:00:00.853389 [_reduce_to_n_topics] Created topic map\n",
      "0:00:00.885698 [_reduce_to_n_topics] Mapped topics\n"
     ]
    },
    {
     "name": "stderr",
     "output_type": "stream",
     "text": [
      "\n",
      "2022-02-26 23:46:59,449 - BERTopic - Reduced number of topics from 33 to 17\n"
     ]
    },
    {
     "name": "stdout",
     "output_type": "stream",
     "text": [
      "0:01:17.354167 [_reduce_to_n_topics] Updated representations\n",
      "0:01:17.408785 - Extracted topics and probs with reduction to 16\n",
      "0:00:00.072514 - Saved 104,284 topics & 104,284 probs to /home/shuyang/data4/BERTopic-ubuntu/model_16/top_probs.pkl (1.26 MB)\n",
      "0:00:36.389725 - Saved model with 17 topics to /home/shuyang/data4/BERTopic-ubuntu/model_16/model.bin (1085.96 MB)\n",
      "0:00:00.042526 - Saved hierarchy visualization to /home/shuyang/data4/BERTopic-ubuntu/model_16/hier.html (3589.52 KB)\n",
      "0:00:00.071263 - Saved term rank visualization to /home/shuyang/data4/BERTopic-ubuntu/model_16/tranks.html (3592.18 KB)\n",
      "Visualizing keywords @ level with 17 total topics\n",
      "Outlier keywords:\n"
     ]
    },
    {
     "data": {
      "text/plain": [
       "['the', 'to', 'and', 'it', 'is', 'in', 'this', 'my', 'that', 'of']"
      ]
     },
     "metadata": {},
     "output_type": "display_data"
    },
    {
     "name": "stdout",
     "output_type": "stream",
     "text": [
      "\n",
      "Topic 9:\n"
     ]
    },
    {
     "data": {
      "text/plain": [
       "['theme', 'the', 'to', 'themes', 'and', 'in', 'is', 'it', 'of', 'color']"
      ]
     },
     "metadata": {},
     "output_type": "display_data"
    },
    {
     "name": "stdout",
     "output_type": "stream",
     "text": [
      "\n",
      "Topic 5:\n"
     ]
    },
    {
     "data": {
      "text/plain": [
       "['python', 'to', 'the', 'and', 'it', 'install', 'is', 'in', 'this', 'pip']"
      ]
     },
     "metadata": {},
     "output_type": "display_data"
    },
    {
     "name": "stdout",
     "output_type": "stream",
     "text": [
      "\n",
      "Topic 13:\n"
     ]
    },
    {
     "data": {
      "text/plain": [
       "['upgrade',\n",
       " 'to',\n",
       " 'the',\n",
       " 'ubuntu',\n",
       " 'to upgrade',\n",
       " 'is',\n",
       " 'and',\n",
       " 'it',\n",
       " 'lts',\n",
       " 'release']"
      ]
     },
     "metadata": {},
     "output_type": "display_data"
    },
    {
     "name": "stdout",
     "output_type": "stream",
     "text": [
      "\n",
      "Topic 4:\n"
     ]
    },
    {
     "data": {
      "text/plain": [
       "['the', 'to', 'share', 'samba', 'and', 'is', 'on', 'my', 'mount', 'in']"
      ]
     },
     "metadata": {},
     "output_type": "display_data"
    },
    {
     "name": "stdout",
     "output_type": "stream",
     "text": [
      "\n",
      "Topic 3:\n"
     ]
    },
    {
     "data": {
      "text/plain": [
       "['to',\n",
       " 'the',\n",
       " 'permissions',\n",
       " 'and',\n",
       " 'permission',\n",
       " 'user',\n",
       " 'file',\n",
       " 'files',\n",
       " 'is',\n",
       " 'it']"
      ]
     },
     "metadata": {},
     "output_type": "display_data"
    },
    {
     "name": "stdout",
     "output_type": "stream",
     "text": [
      "\n"
     ]
    }
   ],
   "source": [
    "import sys\n",
    "\n",
    "for n_topics in [512, 128, 32, 16]:\n",
    "    print('\\n========= {} =========\\n'.format(n_topics))\n",
    "    mdir = os.path.join(bdir, 'model_{}'.format(n_topics))\n",
    "    os.makedirs(mdir, exist_ok=True)\n",
    "    \n",
    "    # Reduce topics, in place modification\n",
    "    start = datetime.now()\n",
    "    base_topics, base_probs, topic_reduction = topic_model.reduce_topics(\n",
    "        docs=docs,\n",
    "        topics=base_topics,\n",
    "        probabilities=base_probs,\n",
    "        nr_topics=n_topics,\n",
    "    )\n",
    "    print('{} - Extracted topics and probs with reduction to {:,}'.format(\n",
    "        datetime.now() - start, n_topics))\n",
    "\n",
    "    # Save topics & probs\n",
    "    start_bsave = datetime.now()\n",
    "    bfile = os.path.join(mdir, 'top_probs.pkl')\n",
    "    with open(bfile, 'wb') as wf:\n",
    "        pickle.dump((base_topics, base_probs), wf)\n",
    "    print('{} - Saved {:,} topics & {:,} probs to {} ({:.2f} MB)'.format(\n",
    "        datetime.now() - start_bsave,\n",
    "        len(base_topics), len(base_probs),\n",
    "        bfile, os.path.getsize(bfile) / (1024**2)\n",
    "    ))\n",
    "\n",
    "    # SAVE TOPICS\n",
    "    topic_map = topic_model.get_topics()\n",
    "    n_topics = len(topic_map)\n",
    "    TOPIC_DICTIONARY[n_topics] = topic_map\n",
    "    DOCUMENT_TOPICS[n_topics] = [(topic, prob) for topic, prob in zip(base_topics, base_probs)]\n",
    "    REDUCTION_MAPS[n_topics] = topic_reduction\n",
    "\n",
    "    # Save model itself\n",
    "    sfile = os.path.join(mdir, 'model.bin')\n",
    "    start_save = datetime.now()\n",
    "    topic_model.save(sfile)\n",
    "    print('{} - Saved model with {:,} topics to {} ({:.2f} MB)'.format(\n",
    "        datetime.now() - start_save,\n",
    "        len(topic_model.get_topic_freq()),\n",
    "        sfile, os.path.getsize(sfile) / (1024**2)\n",
    "    ))\n",
    "\n",
    "    ## VISUALIZE TOPIC HIERARCHY\n",
    "    start_hier = datetime.now()\n",
    "    fig = topic_model.visualize_hierarchy(width=2000, height=1000)\n",
    "    hloc = os.path.join(mdir, \"hier.html\")\n",
    "    fig.write_html(hloc)\n",
    "    print('{} - Saved hierarchy visualization to {} ({:.2f} KB)'.format(\n",
    "        datetime.now() - start_hier, hloc, os.path.getsize(hloc) / 1024))\n",
    "\n",
    "    ## VISUALIZE TERM RANKS\n",
    "    start_trank = datetime.now()\n",
    "    fig = topic_model.visualize_term_rank(width=2000, height=1000)\n",
    "    tloc = os.path.join(mdir, 'tranks.html')\n",
    "    fig.write_html(tloc)\n",
    "    print('{} - Saved term rank visualization to {} ({:.2f} KB)'.format(\n",
    "        datetime.now() - start_trank, tloc, os.path.getsize(tloc) / 1024))\n",
    "    \n",
    "    print('Visualizing keywords @ level with {:,} total topics'.format(\n",
    "        n_topics\n",
    "    ))\n",
    "    visualize_topics(\n",
    "        topic_map=TOPIC_DICTIONARY[n_topics],\n",
    "        k=5,\n",
    "        show_scores=False\n",
    "    )"
   ]
  },
  {
   "cell_type": "code",
   "execution_count": 9,
   "metadata": {},
   "outputs": [
    {
     "data": {
      "text/plain": [
       "dict_keys([1782, 513, 129, 33, 17])"
      ]
     },
     "execution_count": 9,
     "metadata": {},
     "output_type": "execute_result"
    }
   ],
   "source": [
    "DOCUMENT_TOPICS.keys()"
   ]
  },
  {
   "cell_type": "markdown",
   "metadata": {},
   "source": [
    "## EDA for Documents with Topics\n",
    "\n",
    "Here we show:\n",
    "- The % of documents at each level with no topics assigned\n",
    "- Quantiles for topic likelihood as reported by our model\n",
    "- Most commonly assigned topics by level"
   ]
  },
  {
   "cell_type": "code",
   "execution_count": 10,
   "metadata": {},
   "outputs": [
    {
     "name": "stdout",
     "output_type": "stream",
     "text": [
      "\n",
      "---- 1782 ----\n",
      "47,427 outliers (45.48%)\n",
      "Topic probability quantiles:\n",
      "  25th Quantile: 72.0 %\n",
      "  50th Quantile: 98.0 %\n",
      "  90th Quantile: 100.0 %\n",
      "  95th Quantile: 100.0 %\n",
      "> Top 5 most frequent topics:\n"
     ]
    },
    {
     "data": {
      "text/html": [
       "<div>\n",
       "<style scoped>\n",
       "    .dataframe tbody tr th:only-of-type {\n",
       "        vertical-align: middle;\n",
       "    }\n",
       "\n",
       "    .dataframe tbody tr th {\n",
       "        vertical-align: top;\n",
       "    }\n",
       "\n",
       "    .dataframe thead th {\n",
       "        text-align: right;\n",
       "    }\n",
       "</style>\n",
       "<table border=\"1\" class=\"dataframe\">\n",
       "  <thead>\n",
       "    <tr style=\"text-align: right;\">\n",
       "      <th></th>\n",
       "      <th>Topic</th>\n",
       "      <th>Freq</th>\n",
       "    </tr>\n",
       "  </thead>\n",
       "  <tbody>\n",
       "    <tr>\n",
       "      <th>0</th>\n",
       "      <td>[kernel, the kernel, kernels, linux kernel, kernel version, kernel is, my kernel, kernel and, new kernel, old kernels]</td>\n",
       "      <td>968</td>\n",
       "    </tr>\n",
       "    <tr>\n",
       "      <th>1</th>\n",
       "      <td>[python, pip, 27, python3, python 27, anaconda, of python, the python, for python, numpy]</td>\n",
       "      <td>762</td>\n",
       "    </tr>\n",
       "    <tr>\n",
       "      <th>2</th>\n",
       "      <td>[samba, share, shares, mount, nfs, shared, the share, access, to mount, network]</td>\n",
       "      <td>717</td>\n",
       "    </tr>\n",
       "    <tr>\n",
       "      <th>3</th>\n",
       "      <td>[encrypted, encryption, encrypt, luks, passphrase, to encrypt, truecrypt, an encrypted, ecryptfs, home]</td>\n",
       "      <td>655</td>\n",
       "    </tr>\n",
       "    <tr>\n",
       "      <th>4</th>\n",
       "      <td>[juju, maas, openstack, node, nodes, deploy, charm, the maas, to deploy, charms]</td>\n",
       "      <td>621</td>\n",
       "    </tr>\n",
       "  </tbody>\n",
       "</table>\n",
       "</div>"
      ],
      "text/plain": [
       "                                                                                                                    Topic  \\\n",
       "0  [kernel, the kernel, kernels, linux kernel, kernel version, kernel is, my kernel, kernel and, new kernel, old kernels]   \n",
       "1                               [python, pip, 27, python3, python 27, anaconda, of python, the python, for python, numpy]   \n",
       "2                                        [samba, share, shares, mount, nfs, shared, the share, access, to mount, network]   \n",
       "3                 [encrypted, encryption, encrypt, luks, passphrase, to encrypt, truecrypt, an encrypted, ecryptfs, home]   \n",
       "4                                        [juju, maas, openstack, node, nodes, deploy, charm, the maas, to deploy, charms]   \n",
       "\n",
       "   Freq  \n",
       "0   968  \n",
       "1   762  \n",
       "2   717  \n",
       "3   655  \n",
       "4   621  "
      ]
     },
     "metadata": {},
     "output_type": "display_data"
    },
    {
     "name": "stdout",
     "output_type": "stream",
     "text": [
      "\n",
      "---- 513 ----\n",
      "54,781 outliers (52.53%)\n",
      "Topic probability quantiles:\n",
      "  25th Quantile: 70.7 %\n",
      "  50th Quantile: 97.9 %\n",
      "  90th Quantile: 100.0 %\n",
      "  95th Quantile: 100.0 %\n",
      "> Top 5 most frequent topics:\n"
     ]
    },
    {
     "data": {
      "text/html": [
       "<div>\n",
       "<style scoped>\n",
       "    .dataframe tbody tr th:only-of-type {\n",
       "        vertical-align: middle;\n",
       "    }\n",
       "\n",
       "    .dataframe tbody tr th {\n",
       "        vertical-align: top;\n",
       "    }\n",
       "\n",
       "    .dataframe thead th {\n",
       "        text-align: right;\n",
       "    }\n",
       "</style>\n",
       "<table border=\"1\" class=\"dataframe\">\n",
       "  <thead>\n",
       "    <tr style=\"text-align: right;\">\n",
       "      <th></th>\n",
       "      <th>Topic</th>\n",
       "      <th>Freq</th>\n",
       "    </tr>\n",
       "  </thead>\n",
       "  <tbody>\n",
       "    <tr>\n",
       "      <th>0</th>\n",
       "      <td>[kernel, the kernel, kernels, linux kernel, kernel version, version, update, upgrade, kernel is, boot]</td>\n",
       "      <td>1011</td>\n",
       "    </tr>\n",
       "    <tr>\n",
       "      <th>1</th>\n",
       "      <td>[python, pip, 27, python3, python 27, install, the python, anaconda, to install, of python]</td>\n",
       "      <td>820</td>\n",
       "    </tr>\n",
       "    <tr>\n",
       "      <th>2</th>\n",
       "      <td>[samba, share, mount, shares, nfs, shared, access, network, the share, server]</td>\n",
       "      <td>744</td>\n",
       "    </tr>\n",
       "    <tr>\n",
       "      <th>3</th>\n",
       "      <td>[ssd, partition, partitions, windows, hdd, drive, install ubuntu, the ssd, to install ubuntu, gb]</td>\n",
       "      <td>705</td>\n",
       "    </tr>\n",
       "    <tr>\n",
       "      <th>4</th>\n",
       "      <td>[encrypted, encryption, encrypt, home, luks, passphrase, to encrypt, truecrypt, password, partition]</td>\n",
       "      <td>655</td>\n",
       "    </tr>\n",
       "  </tbody>\n",
       "</table>\n",
       "</div>"
      ],
      "text/plain": [
       "                                                                                                    Topic  \\\n",
       "0  [kernel, the kernel, kernels, linux kernel, kernel version, version, update, upgrade, kernel is, boot]   \n",
       "1             [python, pip, 27, python3, python 27, install, the python, anaconda, to install, of python]   \n",
       "2                          [samba, share, mount, shares, nfs, shared, access, network, the share, server]   \n",
       "3       [ssd, partition, partitions, windows, hdd, drive, install ubuntu, the ssd, to install ubuntu, gb]   \n",
       "4    [encrypted, encryption, encrypt, home, luks, passphrase, to encrypt, truecrypt, password, partition]   \n",
       "\n",
       "   Freq  \n",
       "0  1011  \n",
       "1   820  \n",
       "2   744  \n",
       "3   705  \n",
       "4   655  "
      ]
     },
     "metadata": {},
     "output_type": "display_data"
    },
    {
     "name": "stdout",
     "output_type": "stream",
     "text": [
      "\n",
      "---- 129 ----\n",
      "69,372 outliers (66.52%)\n",
      "Topic probability quantiles:\n",
      "  25th Quantile: 78.3 %\n",
      "  50th Quantile: 100.0 %\n",
      "  90th Quantile: 100.0 %\n",
      "  95th Quantile: 100.0 %\n",
      "> Top 5 most frequent topics:\n"
     ]
    },
    {
     "data": {
      "text/html": [
       "<div>\n",
       "<style scoped>\n",
       "    .dataframe tbody tr th:only-of-type {\n",
       "        vertical-align: middle;\n",
       "    }\n",
       "\n",
       "    .dataframe tbody tr th {\n",
       "        vertical-align: top;\n",
       "    }\n",
       "\n",
       "    .dataframe thead th {\n",
       "        text-align: right;\n",
       "    }\n",
       "</style>\n",
       "<table border=\"1\" class=\"dataframe\">\n",
       "  <thead>\n",
       "    <tr style=\"text-align: right;\">\n",
       "      <th></th>\n",
       "      <th>Topic</th>\n",
       "      <th>Freq</th>\n",
       "    </tr>\n",
       "  </thead>\n",
       "  <tbody>\n",
       "    <tr>\n",
       "      <th>0</th>\n",
       "      <td>[partition, windows, drive, ubuntu, partitions, ssd, hdd, and, on, install]</td>\n",
       "      <td>1183</td>\n",
       "    </tr>\n",
       "    <tr>\n",
       "      <th>1</th>\n",
       "      <td>[kernel, the kernel, kernels, the, to, is, and, version, of, that]</td>\n",
       "      <td>1075</td>\n",
       "    </tr>\n",
       "    <tr>\n",
       "      <th>2</th>\n",
       "      <td>[share, samba, mount, shared, the, folder, access, to, shares, network]</td>\n",
       "      <td>832</td>\n",
       "    </tr>\n",
       "    <tr>\n",
       "      <th>3</th>\n",
       "      <td>[python, pip, install, to, installed, 27, the, to install, and, python3]</td>\n",
       "      <td>820</td>\n",
       "    </tr>\n",
       "    <tr>\n",
       "      <th>4</th>\n",
       "      <td>[wifi, wireless, network, broadcom, driver, the, my, the wifi, and, is]</td>\n",
       "      <td>756</td>\n",
       "    </tr>\n",
       "  </tbody>\n",
       "</table>\n",
       "</div>"
      ],
      "text/plain": [
       "                                                                         Topic  \\\n",
       "0  [partition, windows, drive, ubuntu, partitions, ssd, hdd, and, on, install]   \n",
       "1           [kernel, the kernel, kernels, the, to, is, and, version, of, that]   \n",
       "2      [share, samba, mount, shared, the, folder, access, to, shares, network]   \n",
       "3     [python, pip, install, to, installed, 27, the, to install, and, python3]   \n",
       "4      [wifi, wireless, network, broadcom, driver, the, my, the wifi, and, is]   \n",
       "\n",
       "   Freq  \n",
       "0  1183  \n",
       "1  1075  \n",
       "2   832  \n",
       "3   820  \n",
       "4   756  "
      ]
     },
     "metadata": {},
     "output_type": "display_data"
    },
    {
     "name": "stdout",
     "output_type": "stream",
     "text": [
      "\n",
      "---- 33 ----\n",
      "85,914 outliers (82.38%)\n",
      "Topic probability quantiles:\n",
      "  25th Quantile: 87.4 %\n",
      "  50th Quantile: 100.0 %\n",
      "  90th Quantile: 100.0 %\n",
      "  95th Quantile: 100.0 %\n",
      "> Top 5 most frequent topics:\n"
     ]
    },
    {
     "data": {
      "text/html": [
       "<div>\n",
       "<style scoped>\n",
       "    .dataframe tbody tr th:only-of-type {\n",
       "        vertical-align: middle;\n",
       "    }\n",
       "\n",
       "    .dataframe tbody tr th {\n",
       "        vertical-align: top;\n",
       "    }\n",
       "\n",
       "    .dataframe thead th {\n",
       "        text-align: right;\n",
       "    }\n",
       "</style>\n",
       "<table border=\"1\" class=\"dataframe\">\n",
       "  <thead>\n",
       "    <tr style=\"text-align: right;\">\n",
       "      <th></th>\n",
       "      <th>Topic</th>\n",
       "      <th>Freq</th>\n",
       "    </tr>\n",
       "  </thead>\n",
       "  <tbody>\n",
       "    <tr>\n",
       "      <th>0</th>\n",
       "      <td>[partition, windows, to, ubuntu, the, and, my, on, drive, swap]</td>\n",
       "      <td>1395</td>\n",
       "    </tr>\n",
       "    <tr>\n",
       "      <th>1</th>\n",
       "      <td>[wifi, wireless, the, to, network, my, and, is, it, connection]</td>\n",
       "      <td>1219</td>\n",
       "    </tr>\n",
       "    <tr>\n",
       "      <th>2</th>\n",
       "      <td>[kernel, the, to, is, and, the kernel, it, of, that, this]</td>\n",
       "      <td>1075</td>\n",
       "    </tr>\n",
       "    <tr>\n",
       "      <th>3</th>\n",
       "      <td>[permissions, to, the, permission, and, user, files, group, file, folder]</td>\n",
       "      <td>921</td>\n",
       "    </tr>\n",
       "    <tr>\n",
       "      <th>4</th>\n",
       "      <td>[the, share, samba, to, and, mount, on, my, is, folder]</td>\n",
       "      <td>832</td>\n",
       "    </tr>\n",
       "  </tbody>\n",
       "</table>\n",
       "</div>"
      ],
      "text/plain": [
       "                                                                       Topic  \\\n",
       "0            [partition, windows, to, ubuntu, the, and, my, on, drive, swap]   \n",
       "1            [wifi, wireless, the, to, network, my, and, is, it, connection]   \n",
       "2                 [kernel, the, to, is, and, the kernel, it, of, that, this]   \n",
       "3  [permissions, to, the, permission, and, user, files, group, file, folder]   \n",
       "4                    [the, share, samba, to, and, mount, on, my, is, folder]   \n",
       "\n",
       "   Freq  \n",
       "0  1395  \n",
       "1  1219  \n",
       "2  1075  \n",
       "3   921  \n",
       "4   832  "
      ]
     },
     "metadata": {},
     "output_type": "display_data"
    },
    {
     "name": "stdout",
     "output_type": "stream",
     "text": [
      "\n",
      "---- 17 ----\n",
      "91,547 outliers (87.79%)\n",
      "Topic probability quantiles:\n",
      "  25th Quantile: 88.6 %\n",
      "  50th Quantile: 100.0 %\n",
      "  90th Quantile: 100.0 %\n",
      "  95th Quantile: 100.0 %\n",
      "> Top 5 most frequent topics:\n"
     ]
    },
    {
     "data": {
      "text/html": [
       "<div>\n",
       "<style scoped>\n",
       "    .dataframe tbody tr th:only-of-type {\n",
       "        vertical-align: middle;\n",
       "    }\n",
       "\n",
       "    .dataframe tbody tr th {\n",
       "        vertical-align: top;\n",
       "    }\n",
       "\n",
       "    .dataframe thead th {\n",
       "        text-align: right;\n",
       "    }\n",
       "</style>\n",
       "<table border=\"1\" class=\"dataframe\">\n",
       "  <thead>\n",
       "    <tr style=\"text-align: right;\">\n",
       "      <th></th>\n",
       "      <th>Topic</th>\n",
       "      <th>Freq</th>\n",
       "    </tr>\n",
       "  </thead>\n",
       "  <tbody>\n",
       "    <tr>\n",
       "      <th>0</th>\n",
       "      <td>[the, wifi, to, wireless, and, is, my, it, network, on]</td>\n",
       "      <td>1568</td>\n",
       "    </tr>\n",
       "    <tr>\n",
       "      <th>1</th>\n",
       "      <td>[partition, the, to, ubuntu, and, windows, my, on, is, it]</td>\n",
       "      <td>1395</td>\n",
       "    </tr>\n",
       "    <tr>\n",
       "      <th>2</th>\n",
       "      <td>[kernel, the, to, is, and, it, the kernel, of, that, this]</td>\n",
       "      <td>1075</td>\n",
       "    </tr>\n",
       "    <tr>\n",
       "      <th>3</th>\n",
       "      <td>[to, the, permissions, and, permission, user, file, files, is, it]</td>\n",
       "      <td>921</td>\n",
       "    </tr>\n",
       "    <tr>\n",
       "      <th>4</th>\n",
       "      <td>[the, to, share, samba, and, is, on, my, mount, in]</td>\n",
       "      <td>832</td>\n",
       "    </tr>\n",
       "  </tbody>\n",
       "</table>\n",
       "</div>"
      ],
      "text/plain": [
       "                                                                Topic  Freq\n",
       "0             [the, wifi, to, wireless, and, is, my, it, network, on]  1568\n",
       "1          [partition, the, to, ubuntu, and, windows, my, on, is, it]  1395\n",
       "2          [kernel, the, to, is, and, it, the kernel, of, that, this]  1075\n",
       "3  [to, the, permissions, and, permission, user, file, files, is, it]   921\n",
       "4                 [the, to, share, samba, and, is, on, my, mount, in]   832"
      ]
     },
     "metadata": {},
     "output_type": "display_data"
    }
   ],
   "source": [
    "import numpy as np\n",
    "from collections import Counter\n",
    "import pandas as pd\n",
    "pd.set_option('display.max_colwidth', None)\n",
    "\n",
    "for n_topics, doc_topic_list in DOCUMENT_TOPICS.items():\n",
    "    print('\\n---- {} ----'.format(n_topics))\n",
    "    n_outliers = 0\n",
    "    non_outlier_probs = []\n",
    "    topic_freqs = Counter()\n",
    "    for top, top_prob in doc_topic_list:\n",
    "        if top == -1:\n",
    "            n_outliers += 1\n",
    "            continue\n",
    "        non_outlier_probs.append(top_prob)\n",
    "        topic_freqs[top] += 1\n",
    "    print('{:,} outliers ({:.2f}%)'.format(n_outliers, n_outliers / len(doc_topic_list) * 100.0))\n",
    "    print('Topic probability quantiles:')\n",
    "    q_levels = [0.25, 0.50, 0.9, 0.95]\n",
    "    quants = np.quantile(non_outlier_probs, q_levels)\n",
    "    for ql, qv in zip(q_levels, quants):\n",
    "        print('  {}th Quantile: {:.1f} %'.format(int(100*ql), qv*100))\n",
    "    \n",
    "    print('> Top 5 most frequent topics:')\n",
    "    df = []\n",
    "    for tid, tfreq in topic_freqs.most_common(5):\n",
    "        df.append({'Topic': [t for t, cs in TOPIC_DICTIONARY[n_topics][tid]], 'Freq': tfreq})\n",
    "    display(pd.DataFrame(df))"
   ]
  },
  {
   "cell_type": "code",
   "execution_count": null,
   "metadata": {},
   "outputs": [],
   "source": []
  }
 ],
 "metadata": {
  "kernelspec": {
   "display_name": "Python 3",
   "language": "python",
   "name": "python3"
  },
  "language_info": {
   "codemirror_mode": {
    "name": "ipython",
    "version": 3
   },
   "file_extension": ".py",
   "mimetype": "text/x-python",
   "name": "python",
   "nbconvert_exporter": "python",
   "pygments_lexer": "ipython3",
   "version": "3.7.5"
  }
 },
 "nbformat": 4,
 "nbformat_minor": 4
}
